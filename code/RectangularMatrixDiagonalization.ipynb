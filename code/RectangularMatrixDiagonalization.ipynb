{
 "cells": [
  {
   "cell_type": "markdown",
   "metadata": {},
   "source": [
    "# Diagonalization of rectangular matrices"
   ]
  },
  {
   "cell_type": "markdown",
   "metadata": {},
   "source": [
    "Required Python libraries"
   ]
  },
  {
   "cell_type": "code",
   "execution_count": 2,
   "metadata": {},
   "outputs": [],
   "source": [
    "import numpy as np"
   ]
  },
  {
   "cell_type": "markdown",
   "metadata": {},
   "source": [
    "Functions"
   ]
  },
  {
   "cell_type": "code",
   "execution_count": 3,
   "metadata": {},
   "outputs": [],
   "source": [
    "def myFunc(matrix):\n",
    "    # Create Symmetric matrix from rectangular matrix\n",
    "    symmetricMatrix = np.matmul(np.transpose(matrix),matrix) \n",
    "    # Obtain eigenvalues and eigenvectors\n",
    "    eigenValues, eigenVectors = np.linalg.eig(symmetricMatrix)\n",
    "    \n",
    "    # Create D from the eigenvalues\n",
    "    diagonalizedMatrix = np.eye(len(eigenValues))*eigenValues\n",
    "    # We already have P in the eigenvectors \n",
    "    # because the function returns a matrix \n",
    "    # that includes all of them\n",
    "    \n",
    "    # P*D*inv(P)\n",
    "    pdp = eigenVectors * diagonalizedMatrix * np.linalg.inv(eigenVectors)\n",
    "    # P*D*transpose(P)\n",
    "    pdpT = eigenVectors * diagonalizedMatrix * np.transpose(eigenVectors)\n",
    "    \n",
    "    print(pdp)\n",
    "    print(pdpT)"
   ]
  },
  {
   "cell_type": "markdown",
   "metadata": {},
   "source": [
    "Sample"
   ]
  },
  {
   "cell_type": "code",
   "execution_count": 4,
   "metadata": {},
   "outputs": [],
   "source": [
    "A = np.array([[1,3,4],[2,0,1],[5,8,1],[0,1,1]])"
   ]
  },
  {
   "cell_type": "code",
   "execution_count": 5,
   "metadata": {},
   "outputs": [
    {
     "name": "stdout",
     "output_type": "stream",
     "text": [
      "[[26.71036803  0.         -0.        ]\n",
      " [ 0.          1.03415815 -0.        ]\n",
      " [-0.         -0.         11.67237521]]\n",
      "[[26.71036803  0.         -0.        ]\n",
      " [ 0.          1.03415815 -0.        ]\n",
      " [-0.         -0.         11.67237521]]\n"
     ]
    }
   ],
   "source": [
    "myFunc(A)"
   ]
  },
  {
   "cell_type": "code",
   "execution_count": null,
   "metadata": {},
   "outputs": [],
   "source": []
  }
 ],
 "metadata": {
  "kernelspec": {
   "display_name": "SageMath 8.9",
   "language": "sage",
   "name": "sagemath"
  },
  "language_info": {
   "codemirror_mode": {
    "name": "ipython",
    "version": 2
   },
   "file_extension": ".py",
   "mimetype": "text/x-python",
   "name": "python",
   "nbconvert_exporter": "python",
   "pygments_lexer": "ipython2",
   "version": "2.7.16"
  }
 },
 "nbformat": 4,
 "nbformat_minor": 4
}
